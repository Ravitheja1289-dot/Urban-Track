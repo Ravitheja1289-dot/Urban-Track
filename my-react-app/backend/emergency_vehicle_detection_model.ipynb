{
 "cells": [
  {
   "cell_type": "code",
   "execution_count": null,
   "id": "b613fd5d",
   "metadata": {},
   "outputs": [],
   "source": [
    "# emergency_vehicle_detection_model.ipynb\n",
    "\n",
    "# Import necessary libraries\n",
    "import cv2\n",
    "import numpy as np\n",
    "from ultralytics import YOLO\n",
    "import matplotlib.pyplot as plt\n",
    "\n",
    "# Load the pre-trained YOLO model for emergency vehicle detection\n",
    "emergency_model = YOLO(\"emergency_vehicles.pt\")\n",
    "\n",
    "# Load a sample video or image\n",
    "video_path = 'traffic_video.mp4'\n",
    "cap = cv2.VideoCapture(video_path)\n",
    "\n",
    "# Emergency vehicle labels\n",
    "EMERGENCY_LABELS = [\"ambulance\", \"fire_truck\", \"police_car\"]\n",
    "\n",
    "# Loop to process the video frames\n",
    "while cap.isOpened():\n",
    "    ret, frame = cap.read()\n",
    "    if not ret:\n",
    "        break\n",
    "    \n",
    "    # Detect emergency vehicles in the frame\n",
    "    results = emergency_model(frame)\n",
    "\n",
    "    # Draw bounding boxes and labels for emergency vehicles\n",
    "    for r in results:\n",
    "        for box in r.boxes:\n",
    "            x1, y1, x2, y2 = map(int, box.xyxy[0])\n",
    "            label = emergency_model.names[int(box.cls[0])]\n",
    "            conf = round(float(box.conf[0]), 2)\n",
    "\n",
    "            # Check if the detected object is an emergency vehicle\n",
    "            if label in EMERGENCY_LABELS:\n",
    "                cv2.rectangle(frame, (x1, y1), (x2, y2), (0, 0, 255), 2)\n",
    "                text = f\"{label} {conf}\"\n",
    "                cv2.putText(frame, text, (x1, y1 - 10), cv2.FONT_HERSHEY_SIMPLEX, 0.5, (0, 0, 255), 2)\n",
    "\n",
    "    # Display the frame with detected emergency vehicles\n",
    "    cv2.imshow(\"Emergency Vehicle Detection\", frame)\n",
    "\n",
    "    # Break the loop on pressing 'q'\n",
    "    if cv2.waitKey(1) & 0xFF == ord('q'):\n",
    "        break\n",
    "\n",
    "cap.release()\n",
    "cv2.destroyAllWindows()\n"
   ]
  }
 ],
 "metadata": {
  "language_info": {
   "name": "python"
  }
 },
 "nbformat": 4,
 "nbformat_minor": 5
}
